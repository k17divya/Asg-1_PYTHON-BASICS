{
 "cells": [
  {
   "cell_type": "code",
   "execution_count": null,
   "id": "e5877c8e-bc74-45ed-8faf-df394c87d073",
   "metadata": {},
   "outputs": [],
   "source": [
    "#Que.1 Declare two variables, `x` and `y`, and assign them integer values. Swap the values of these variables without using any temporary variable."
   ]
  },
  {
   "cell_type": "code",
   "execution_count": 4,
   "id": "dfc7bac6-cd42-42ce-9ec9-c23c817285de",
   "metadata": {},
   "outputs": [],
   "source": [
    "x=2\n",
    "y=6"
   ]
  },
  {
   "cell_type": "code",
   "execution_count": 5,
   "id": "64eedca7-f273-4a19-9633-3ee19273f5f5",
   "metadata": {},
   "outputs": [],
   "source": [
    "x,y=y,x"
   ]
  },
  {
   "cell_type": "code",
   "execution_count": 6,
   "id": "eb9e837a-4129-4ad5-be27-ad76018ac2e9",
   "metadata": {},
   "outputs": [
    {
     "name": "stdout",
     "output_type": "stream",
     "text": [
      "6 2\n"
     ]
    }
   ],
   "source": [
    "print(x,y)"
   ]
  },
  {
   "cell_type": "code",
   "execution_count": null,
   "id": "5fa130f7-e2d7-4b42-b9f4-a5cb0df3916f",
   "metadata": {},
   "outputs": [],
   "source": [
    "#Que.2 Create a program that calculates the area of a rectangle. Take the length and width as inputs from the user and store them in variables.Calculate and display the area."
   ]
  },
  {
   "cell_type": "code",
   "execution_count": 7,
   "id": "731d998e-f8ad-4438-b0ba-ea764af8936c",
   "metadata": {},
   "outputs": [
    {
     "name": "stdin",
     "output_type": "stream",
     "text": [
      "Enter the length of the rectangle:  4.5\n",
      "Enter the width of the rectangle:  5\n"
     ]
    },
    {
     "name": "stdout",
     "output_type": "stream",
     "text": [
      "22.5\n"
     ]
    }
   ],
   "source": [
    "length = float(input(\"Enter the length of the rectangle: \"))\n",
    "width = float(input(\"Enter the width of the rectangle: \"))\n",
    "area = length*width\n",
    "print(area)"
   ]
  },
  {
   "cell_type": "code",
   "execution_count": null,
   "id": "43244b3c-ec94-4fe3-9a1e-3c1da93299c9",
   "metadata": {},
   "outputs": [],
   "source": [
    "#Que.3 Write a Python program that converts temperatures from Celsius to Fahrenheit. Take the temperature in Celsius as input, store it in a variable,convert it to Fahrenheit, and display the result."
   ]
  },
  {
   "cell_type": "code",
   "execution_count": 1,
   "id": "5921ce39-facd-47ec-bab0-17d7ddf9473b",
   "metadata": {},
   "outputs": [
    {
     "name": "stdin",
     "output_type": "stream",
     "text": [
      "enter the temperature in celsius 5\n"
     ]
    },
    {
     "name": "stdout",
     "output_type": "stream",
     "text": [
      "41.0\n"
     ]
    }
   ],
   "source": [
    "celsius = float(input(\"enter the temperature in celsius\"))\n",
    "fahrenheit = (celsius * 9/5) + 32\n",
    "print(fahrenheit)"
   ]
  },
  {
   "cell_type": "code",
   "execution_count": 2,
   "id": "026761b6-7fc4-407f-a413-2652c52c80dd",
   "metadata": {},
   "outputs": [],
   "source": [
    "# string Que.1 Write a Python program that takes a string as input and prints the length of the string."
   ]
  },
  {
   "cell_type": "code",
   "execution_count": 3,
   "id": "17ce786f-934d-4b4f-96e2-7f52ad1461d8",
   "metadata": {},
   "outputs": [
    {
     "name": "stdin",
     "output_type": "stream",
     "text": [
      "enter a string:  divya\n"
     ]
    },
    {
     "name": "stdout",
     "output_type": "stream",
     "text": [
      "lenth of the string is5\n"
     ]
    }
   ],
   "source": [
    "a=input(\"enter a string: \")\n",
    "lenth_of_string=len(a)\n",
    "print(f\"lenth of the string is{lenth_of_string}\")"
   ]
  },
  {
   "cell_type": "code",
   "execution_count": 4,
   "id": "74fd7ce4-b67a-4a79-92bd-f56194bc0e80",
   "metadata": {},
   "outputs": [],
   "source": [
    "# string Que.2 Create a program that takes a sentence from the user and counts the number of vowels (a, e, i, o, u) in the string."
   ]
  },
  {
   "cell_type": "code",
   "execution_count": 5,
   "id": "f3b8d73c-c69a-403f-a7b0-40b8c279b1f8",
   "metadata": {},
   "outputs": [
    {
     "name": "stdin",
     "output_type": "stream",
     "text": [
      "enter a sentence: hello i am a student.\n"
     ]
    },
    {
     "name": "stdout",
     "output_type": "stream",
     "text": [
      "hello i am a student.\n",
      "number vowels in given sentence is : 7\n"
     ]
    }
   ],
   "source": [
    "sentence = input(\"enter a sentence:\")\n",
    "str = sentence.lower ()\n",
    "print(str)\n",
    "count = 0\n",
    "list1 = [\"a\",\"e\",\"i\",\"o\",\"u\"]\n",
    "for char in str:\n",
    "    if char in list1:\n",
    "        count=count+1\n",
    "print(\"number vowels in given sentence is :\", count)"
   ]
  },
  {
   "cell_type": "code",
   "execution_count": 6,
   "id": "31013224-b964-42f8-8659-3ad683d2d54a",
   "metadata": {},
   "outputs": [],
   "source": [
    "# string Que.3 Given a string, reverse the order of characters using string slicing and print the reversed string."
   ]
  },
  {
   "cell_type": "code",
   "execution_count": 7,
   "id": "0be4e9ff-67d7-4846-850c-319b915d38dd",
   "metadata": {},
   "outputs": [
    {
     "name": "stdin",
     "output_type": "stream",
     "text": [
      "enter a string: python\n"
     ]
    },
    {
     "name": "stdout",
     "output_type": "stream",
     "text": [
      "Reversed a: nohtyp\n"
     ]
    }
   ],
   "source": [
    "a=input(\"enter a string:\")\n",
    "reversed_a = a[::-1]\n",
    "print(\"Reversed a:\", reversed_a)"
   ]
  },
  {
   "cell_type": "code",
   "execution_count": null,
   "id": "1283c179-38f1-4bd8-bb07-578dcb62482b",
   "metadata": {},
   "outputs": [],
   "source": [
    "# string Que.4 Write a program that takes a string as input and checks if it is a palindrome."
   ]
  },
  {
   "cell_type": "code",
   "execution_count": 8,
   "id": "1b7ee8b1-2816-4af0-9f30-c87b23b41ef4",
   "metadata": {},
   "outputs": [
    {
     "name": "stdin",
     "output_type": "stream",
     "text": [
      "enter a string: radar\n"
     ]
    },
    {
     "name": "stdout",
     "output_type": "stream",
     "text": [
      "radar is a palindrome\n"
     ]
    }
   ],
   "source": [
    "n = input(\"enter a string:\")\n",
    "if n == n[::-1]:\n",
    "    print(n+\" is a palindrome\")\n",
    "else:\n",
    "    print(n+ \"is not a palindrome\")"
   ]
  },
  {
   "cell_type": "code",
   "execution_count": 9,
   "id": "8f8d228a-3606-42dd-815d-179ef6aa3e1d",
   "metadata": {},
   "outputs": [],
   "source": [
    "# string Que.5 Create a program that takes a string as input and removes all the spaces from it. Print the modified string without spaces."
   ]
  },
  {
   "cell_type": "code",
   "execution_count": 10,
   "id": "fd6ce6cf-6017-4701-8b3a-17a359b758ac",
   "metadata": {},
   "outputs": [
    {
     "name": "stdout",
     "output_type": "stream",
     "text": [
      "l\n",
      "le\n",
      "let\n",
      "lets\n",
      "letsl\n",
      "letsle\n",
      "letslea\n",
      "letslear\n",
      "letslearn\n",
      "letslearnc\n",
      "letslearnco\n",
      "letslearncod\n",
      "letslearncodi\n",
      "letslearncodin\n",
      "letslearncoding\n"
     ]
    }
   ],
   "source": [
    "str1 = \"lets learn coding\"\n",
    "str2 = \"\"\n",
    "for i in str1 :\n",
    "    if i != \" \" :\n",
    "        str2 = str2 + i\n",
    "        print(str2)"
   ]
  },
  {
   "cell_type": "code",
   "execution_count": null,
   "id": "a14384c6-c6b5-4167-809d-cd1d08eb79ff",
   "metadata": {},
   "outputs": [],
   "source": []
  }
 ],
 "metadata": {
  "kernelspec": {
   "display_name": "Python 3 (ipykernel)",
   "language": "python",
   "name": "python3"
  },
  "language_info": {
   "codemirror_mode": {
    "name": "ipython",
    "version": 3
   },
   "file_extension": ".py",
   "mimetype": "text/x-python",
   "name": "python",
   "nbconvert_exporter": "python",
   "pygments_lexer": "ipython3",
   "version": "3.10.8"
  }
 },
 "nbformat": 4,
 "nbformat_minor": 5
}
